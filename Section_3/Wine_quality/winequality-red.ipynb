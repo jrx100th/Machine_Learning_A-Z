{
 "cells": [
  {
   "cell_type": "markdown",
   "id": "e18c5562",
   "metadata": {},
   "source": [
    "## Import necessary libraries"
   ]
  },
  {
   "cell_type": "code",
   "execution_count": 13,
   "id": "231ee3a9",
   "metadata": {},
   "outputs": [],
   "source": [
    "import pandas as pd\n",
    "import numpy as np"
   ]
  },
  {
   "cell_type": "markdown",
   "id": "4dd724ca",
   "metadata": {},
   "source": [
    "## Load the Wine Quality Red dataset"
   ]
  },
  {
   "cell_type": "code",
   "execution_count": 14,
   "id": "0011a917",
   "metadata": {},
   "outputs": [
    {
     "name": "stdout",
     "output_type": "stream",
     "text": [
      "(1599, 12)\n"
     ]
    }
   ],
   "source": [
    "dataset = pd.read_csv('winequality-red.csv',sep=';')\n",
    "print(dataset.shape)"
   ]
  },
  {
   "cell_type": "markdown",
   "id": "75a55386",
   "metadata": {},
   "source": [
    "## Separate features and target"
   ]
  },
  {
   "cell_type": "code",
   "execution_count": 15,
   "id": "4a768ea9",
   "metadata": {},
   "outputs": [],
   "source": [
    "X = dataset.iloc[:,:-1]\n",
    "y = dataset.iloc[:,-1]"
   ]
  },
  {
   "cell_type": "markdown",
   "id": "9ac6cf73",
   "metadata": {},
   "source": [
    "## Split the dataset into an 80-20 training-test set"
   ]
  },
  {
   "cell_type": "code",
   "execution_count": 16,
   "id": "0b39cfb4",
   "metadata": {},
   "outputs": [],
   "source": [
    "from sklearn.model_selection import train_test_split\n",
    "X_train, X_test, y_train, y_test = train_test_split(X,y, test_size=0.2,random_state=1)"
   ]
  },
  {
   "cell_type": "markdown",
   "id": "69dff2f2",
   "metadata": {},
   "source": [
    "## Create an instance of the StandardScaler class"
   ]
  },
  {
   "cell_type": "code",
   "execution_count": 17,
   "id": "3c1ccc1e",
   "metadata": {},
   "outputs": [],
   "source": [
    "from sklearn.preprocessing import StandardScaler\n",
    "sc = StandardScaler()\n"
   ]
  },
  {
   "cell_type": "markdown",
   "id": "3807e75c",
   "metadata": {},
   "source": [
    "## Fit the StandardScaler on the features from the training set and transform it"
   ]
  },
  {
   "cell_type": "code",
   "execution_count": 18,
   "id": "bd5c9233",
   "metadata": {},
   "outputs": [],
   "source": [
    "X_train = sc.fit_transform(X_train)"
   ]
  },
  {
   "cell_type": "markdown",
   "id": "98dfcdfd",
   "metadata": {},
   "source": [
    "## Apply the transform to the test set"
   ]
  },
  {
   "cell_type": "code",
   "execution_count": 19,
   "id": "b0ea67b1",
   "metadata": {},
   "outputs": [],
   "source": [
    "X_test = sc.transform(X_test)"
   ]
  },
  {
   "cell_type": "markdown",
   "id": "d26028c6",
   "metadata": {},
   "source": [
    "## Print the scaled training and test datasets"
   ]
  },
  {
   "cell_type": "code",
   "execution_count": 20,
   "id": "2c75c09b",
   "metadata": {},
   "outputs": [
    {
     "name": "stdout",
     "output_type": "stream",
     "text": [
      "[[-0.73307913  0.6648928  -1.25704443 ...  0.98846046  0.0630946\n",
      "  -0.87223395]\n",
      " [ 1.06774091 -0.62346154  1.52314768 ... -1.7535127  -0.17390392\n",
      "  -0.77978452]\n",
      " [-1.74604041 -1.07158479 -1.35814232 ...  2.32756363  0.77409018\n",
      "   3.28799021]\n",
      " ...\n",
      " [-0.95818164  1.08500835 -0.90320179 ...  0.22325865 -1.00339876\n",
      "   0.32960859]\n",
      " [-0.62052788  0.55286199 -1.35814232 ...  0.35079228 -0.47015208\n",
      "  -1.33448108]\n",
      " [ 0.44870902 -0.73549236  1.16930505 ... -0.6694768   0.18159387\n",
      "   1.90124882]]\n",
      "[[ 0.27988214 -0.67947695  1.87699031 ...  1.43482818  0.00384497\n",
      "   0.05226031]\n",
      " [ 0.22360652  0.55286199  0.05722821 ... -0.35064271 -0.17390392\n",
      "  -0.22508797]\n",
      " [ 1.18029216 -1.07158479  1.57369663 ... -0.79701044  0.2408435\n",
      "   0.79185571]\n",
      " ...\n",
      " [-0.67680351  0.77692361 -1.35814232 ...  0.79716001 -0.7071506\n",
      "  -0.96468337]\n",
      " [-1.18328414 -0.79150776  0.81546242 ...  0.86092682  1.24808723\n",
      "   0.69940629]\n",
      " [ 1.4616703  -1.18361561  1.27040294 ... -0.22310908  0.65559092\n",
      "   0.97675456]]\n"
     ]
    }
   ],
   "source": [
    "print(X_train)\n",
    "print(X_test)\n"
   ]
  }
 ],
 "metadata": {
  "kernelspec": {
   "display_name": "base",
   "language": "python",
   "name": "python3"
  },
  "language_info": {
   "codemirror_mode": {
    "name": "ipython",
    "version": 3
   },
   "file_extension": ".py",
   "mimetype": "text/x-python",
   "name": "python",
   "nbconvert_exporter": "python",
   "pygments_lexer": "ipython3",
   "version": "3.12.4"
  }
 },
 "nbformat": 4,
 "nbformat_minor": 5
}
